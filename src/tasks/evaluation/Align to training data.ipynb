{
 "cells": [
  {
   "cell_type": "code",
   "execution_count": null,
   "metadata": {
    "id": "8wfLj25SQDAL"
   },
   "outputs": [],
   "source": [
    "%load_ext autoreload\n",
    "%autoreload 2"
   ]
  },
  {
   "cell_type": "code",
   "execution_count": null,
   "metadata": {},
   "outputs": [],
   "source": [
    "russ_train_location = \"./data/Russ_994_random.fasta\"\n",
    "tau_train_location = \"./data/tautomerase_2953.fasta\"\n",
    "output_dir = \"./outputs/graphs/\""
   ]
  },
  {
   "cell_type": "code",
   "execution_count": null,
   "metadata": {},
   "outputs": [],
   "source": [
    "# cd ../../"
   ]
  },
  {
   "cell_type": "code",
   "execution_count": null,
   "metadata": {
    "id": "jWfptL_GQOmG"
   },
   "outputs": [],
   "source": [
    "import pgen.utils as utils\n",
    "import pandas as pd\n",
    "import seaborn as sns\n",
    "import matplotlib.pyplot as plt"
   ]
  },
  {
   "cell_type": "code",
   "execution_count": null,
   "metadata": {
    "id": "6KZBp6OsHTIF"
   },
   "outputs": [],
   "source": [
    "from Bio import pairwise2\n",
    "from Bio.pairwise2 import format_alignment\n",
    "from Bio.Align import substitution_matrices\n",
    " \n",
    "sub_matrices = {\n",
    "    \"BLOSUM62\": substitution_matrices.load(\"BLOSUM62\"),\n",
    "    \"BLOSUM90\": substitution_matrices.load(\"BLOSUM90\")\n",
    "}\n",
    "\n",
    "def align_sequences(sequenceA, sequenceB, print_alignment=False, matrix=\"BLOSUM90\"):\n",
    "  if matrix is not None: \n",
    "    match_dict = sub_matrices[matrix]\n",
    "    alignments = pairwise2.align.globaldx(sequenceA=sequenceA, sequenceB=sequenceB, match_dict=match_dict)\n",
    "  else:\n",
    "    alignments = pairwise2.align.globalxx(sequenceA=sequenceA, sequenceB=sequenceB)\n",
    "  \n",
    "  if print_alignment:\n",
    "    print(format_alignment(*alignments[0]))\n",
    "\n",
    "  return (alignments[0].score)"
   ]
  },
  {
   "cell_type": "code",
   "execution_count": null,
   "metadata": {
    "id": "G0n-QotjVYYq"
   },
   "outputs": [],
   "source": [
    "russ_values = {\n",
    "    \"Russ\": \"outputs/models/russ/russ_gen.fasta\",\n",
    "    \"CM2_Tst\": \"data/Russ_226_random.fasta\",\n",
    "    \"Tau_Tst\": \"data/tautomerase_738.fasta\",\n",
    "    \"1_S\": \"outputs/models/ESM34/esm34_CH_2_e_coli_full_sequential_k0.fasta\",\n",
    "    \"1_R\": \"outputs/models/ESM34/E_coli_parallel_esm34.fasta\",\n",
    "    \"1_B\": \"outputs/models/ESM34/E_coli_parallel_burnin_esm34.fasta\",\n",
    "    \"1_C\": \"outputs/models/ESM34/E_coli_CM2_first_20_2549bd_trial1.fasta\",\n",
    "    \"1_N\": \"outputs/models/ESM34/NoSeed_2549bd_trial2.fasta\",\n",
    "    \"2_B\": \"outputs/models/esm1_t12_85M_UR50S/E_coli_parallel_burnin_esm12.fasta\",\n",
    "    \"3_B\": \"outputs/models/esm1_t12_85M_UR50S/finetuned/Russ_994_random/Dec04_13-47-23_6fb55ea4/generated_sequences/E_coli_CM2_6b9c30_trial5.fasta\",\n",
    "    \"3_C\": \"outputs/models/esm1_t12_85M_UR50S/finetuned/Russ_994_random/Dec04_13-47-23_6fb55ea4/generated_sequences/E_coli_CM2_first_20_7d2781_trial1.fasta\",\n",
    "    \"3_N\": \"outputs/models/esm1_t12_85M_UR50S/finetuned/Russ_994_random/Dec04_13-47-23_6fb55ea4/generated_sequences/NoSeed_83abbe_trial2.fasta\",\n",
    "    \"4_B\": \"outputs/models/esm1_t12_85M_UR50S/finetuned/tautomerase_2953/Dec04_14-13-14_c8588459/generated_sequences/E_coli_CM2_bb1f59_trial5.fasta\",\n",
    "    \"5_B\": \"Outputs/models/ProtBert-BFD/E_coli_CM2_db515f_trial1.fasta\",\n",
    "    \"6_N\": \"outputs/models/3_gram_CM_2/Russ_994_random_3gram_generation_seed_s_len92.fasta\",\n",
    "    \"HMM\": \"outputs/models/hmmemit/CM_2_hmmemit.fasta\"\n",
    "}\n",
    "\n",
    "tau_values = {\n",
    "    \"Tau_Tst\": \"data/tautomerase_738.fasta\",\n",
    "    \"4_B\": \"outputs/models/esm1_t12_85M_UR50S/finetuned/tautomerase_2953/Dec04_14-13-14_c8588459/generated_sequences/E_coli_CM2_bb1f59_trial5.fasta\",\n",
    "    \"4_N\": \"outputs/models/esm1_t12_85M_UR50S/finetuned/tautomerase_2953/Dec04_14-13-14_c8588459/generated_sequences/NoSeed_30995f_trial2.fasta\",\n",
    "    \"7_N\": \"outputs/models/3_gram_Tautomerase/tautomerase_2953_3gram_generation_seed_s_len60.fasta\"\n",
    "}\n",
    "\n"
   ]
  },
  {
   "cell_type": "markdown",
   "metadata": {
    "id": "eAlvGpkjb0sZ"
   },
   "source": [
    "# Compare to training data"
   ]
  },
  {
   "cell_type": "code",
   "execution_count": null,
   "metadata": {},
   "outputs": [],
   "source": [
    "def process_key(file_loc, train_sequence):\n",
    "    try:\n",
    "        samples = utils.parse_fasta(file_loc)\n",
    "    except Exception as e:\n",
    "        print(f\"skipping file:{file_loc}\")\n",
    "        return [],[]\n",
    "    results = []\n",
    "    print(key)\n",
    "    for sample in samples[:50]:\n",
    "        best = 0\n",
    "        for ref_sequence in train_sequence:\n",
    "            score = align_sequences(ref_sequence, sample, matrix=None)\n",
    "            best = max(best, score)\n",
    "            results.append(best)\n",
    "    return samples, results"
   ]
  },
  {
   "cell_type": "code",
   "execution_count": null,
   "metadata": {
    "id": "hpIcWcdAb8-O"
   },
   "outputs": [],
   "source": [
    "# russ_samples = {}\n",
    "# russ_results = {}\n",
    "# tau_samples = {}\n",
    "# tau_results = {}\n",
    "\n",
    "# russ_train = utils.parse_fasta(russ_train_location)\n",
    "# tau_train = utils.parse_fasta(tau_train_location)\n",
    "\n",
    "# for key in russ_values:\n",
    "#     sample,result = process_key(russ_values[key], russ_train)\n",
    "#     russ_samples[key] = sample\n",
    "#     russ_results[key] = result\n",
    "    \n",
    "# for key in tau_values:\n",
    "#     sample,result = process_key(tau_values[key], tau_train)\n",
    "#     tau_samples[key] = sample\n",
    "#     tau_results[key] = result\n",
    "    "
   ]
  },
  {
   "cell_type": "code",
   "execution_count": null,
   "metadata": {
    "scrolled": true
   },
   "outputs": [],
   "source": [
    "russ_results.keys()"
   ]
  },
  {
   "cell_type": "code",
   "execution_count": null,
   "metadata": {},
   "outputs": [],
   "source": [
    "tau_results.keys()"
   ]
  },
  {
   "cell_type": "code",
   "execution_count": null,
   "metadata": {
    "scrolled": true
   },
   "outputs": [],
   "source": [
    "# Backup the data\n",
    "!pip install dill\n",
    "import dill\n",
    "with open(output_dir + \"alignment_backup\", 'wb') as backup_file:\n",
    "  dill.dump((russ_samples, russ_results, tau_samples, tau_results), backup_file)\n",
    "\n",
    "# Load the data\n",
    "# import dill\n",
    "# with open(output_dir + \"alignment_backup\", 'rb') as backup_file:\n",
    "#   data = dill.load(backup_file)"
   ]
  },
  {
   "cell_type": "code",
   "execution_count": null,
   "metadata": {},
   "outputs": [],
   "source": [
    "plt.clf()\n",
    "df = pd.DataFrame()\n",
    "scores = list()\n",
    "datasets = list()\n",
    "for k,v in russ_results.items():\n",
    "    scores += v\n",
    "    datasets += [k] * len(v)\n",
    "df[\"dataset\"] = datasets\n",
    "df[\"Identity Score\"] = scores\n",
    "\n",
    "sns.set(rc={'figure.figsize':(20,4)})\n",
    "ax = sns.boxplot(x=\"dataset\", y=\"Identity Score\", data=df)\n",
    "ax.figure.set_size_inches(20,5)\n",
    "ax.figure.savefig(output_dir + \"identity_wrt_most_aligned_training_value_russ.png\")"
   ]
  },
  {
   "cell_type": "code",
   "execution_count": null,
   "metadata": {},
   "outputs": [],
   "source": [
    "plt.clf()\n",
    "df = pd.DataFrame()\n",
    "scores = list()\n",
    "datasets = list()\n",
    "for k,v in russ_results.items():\n",
    "    scores += v\n",
    "    datasets += [k] * len(v)\n",
    "for k,v in tau_results.items():\n",
    "    scores += v\n",
    "    datasets += [k + \"*\"] * len(v)\n",
    "df[\"dataset\"] = datasets\n",
    "df[\"Identity Score\"] = scores\n",
    "\n",
    "sns.set(rc={'figure.figsize':(20,4)})\n",
    "ax = sns.boxplot(x=\"dataset\", y=\"Identity Score\", data=df)\n",
    "ax.figure.set_size_inches(20,5)\n",
    "ax.figure.savefig(output_dir + \"identity_wrt_most_aligned_training_value_both.png\")"
   ]
  },
  {
   "cell_type": "code",
   "execution_count": null,
   "metadata": {},
   "outputs": [],
   "source": [
    "plt.clf()\n",
    "df = pd.DataFrame()\n",
    "scores = list()\n",
    "datasets = list()\n",
    "for k,v in tau_results.items():\n",
    "    scores += v\n",
    "    datasets += [k] * len(v)\n",
    "df[\"dataset\"] = datasets\n",
    "df[\"Identity Score\"] = scores\n",
    "\n",
    "sns.set(rc={'figure.figsize':(6,6)})\n",
    "ax = sns.boxplot(x=\"dataset\", y=\"Identity Score\", data=df)\n",
    "ax.figure.set_size_inches(6,5)\n",
    "ax.figure.savefig(output_dir + \"identity_wrt_most_aligned_training_value_tautomerase.png\")"
   ]
  },
  {
   "cell_type": "code",
   "execution_count": null,
   "metadata": {},
   "outputs": [],
   "source": []
  }
 ],
 "metadata": {
  "accelerator": "GPU",
  "colab": {
   "collapsed_sections": [],
   "name": "Generated sequence analysis.ipynb",
   "provenance": []
  },
  "kernelspec": {
   "display_name": "Python 3",
   "language": "python",
   "name": "python3"
  },
  "language_info": {
   "codemirror_mode": {
    "name": "ipython",
    "version": 3
   },
   "file_extension": ".py",
   "mimetype": "text/x-python",
   "name": "python",
   "nbconvert_exporter": "python",
   "pygments_lexer": "ipython3",
   "version": "3.7.8"
  }
 },
 "nbformat": 4,
 "nbformat_minor": 1
}
