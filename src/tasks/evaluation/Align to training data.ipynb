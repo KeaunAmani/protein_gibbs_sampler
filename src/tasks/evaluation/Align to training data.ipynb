{
 "cells": [
  {
   "cell_type": "code",
   "execution_count": 10,
   "metadata": {},
   "outputs": [
    {
     "name": "stdout",
     "output_type": "stream",
     "text": [
      "The autoreload extension is already loaded. To reload it, use:\n",
      "  %reload_ext autoreload\n"
     ]
    }
   ],
   "source": [
    "%load_ext autoreload\n",
    "%autoreload 2"
   ]
  },
  {
   "cell_type": "code",
   "execution_count": 11,
   "metadata": {},
   "outputs": [],
   "source": [
    "from pathlib import Path\n",
    "import pgen.utils as utils\n",
    "common_vars = utils.CommonVars()\n",
    "import pandas as pd\n",
    "import seaborn as sns\n",
    "import matplotlib.pyplot as plt\n",
    "from Bio import pairwise2\n",
    "from Bio.pairwise2 import format_alignment\n",
    "from Bio.Align import substitution_matrices\n",
    "import nwalign3 as nw  \n",
    "import dill"
   ]
  },
  {
   "cell_type": "code",
   "execution_count": 12,
   "metadata": {},
   "outputs": [],
   "source": [
    "import numpy as np"
   ]
  },
  {
   "cell_type": "code",
   "execution_count": 13,
   "metadata": {},
   "outputs": [],
   "source": [
    "russ_train_location = Path(common_vars.project_dir) / \"data\" / \"Russ_994_random.fasta\"\n",
    "tau_train_location = Path(common_vars.project_dir) / \"data\" / \"tautomerase_2953.fasta\"\n",
    "output_dir = Path(common_vars.project_dir) / \"outputs\" / \"graphs\""
   ]
  },
  {
   "cell_type": "code",
   "execution_count": 14,
   "metadata": {},
   "outputs": [],
   "source": [
    "sub_matrices = {\n",
    "    \"BLOSUM62\": substitution_matrices.load(\"BLOSUM62\"),\n",
    "    \"BLOSUM90\": substitution_matrices.load(\"BLOSUM90\")\n",
    "}\n",
    "\n",
    "def align_sequences(sequenceA, sequenceB, print_alignment=False, matrix=\"BLOSUM62\"):\n",
    "    alignment = nw.global_align(sequenceA, sequenceB, matrix=matrix, gap_open=-0.5, gap_extend=-0.1)\n",
    "    if print_alignment:\n",
    "        print(alignment[0])\n",
    "        print(alignment[1])\n",
    "    score = nw.score_alignment(alignment[0],alignment[1], matrix=Path(nw.__file__).parent / \"matrices\" / matrix, gap_open=-0.5, gap_extend=-0.1)\n",
    "\n",
    "\n",
    "    return score\n",
    "\n",
    "# def align_sequences(sequenceA, sequenceB, print_alignment=False, matrix=\"BLOSUM62\"):\n",
    "#     if matrix is not None: \n",
    "#         match_dict = sub_matrices[matrix]\n",
    "#         alignments = pairwise2.align.globaldx(sequenceA=sequenceA, sequenceB=sequenceB, match_dict=match_dict)\n",
    "#     else:\n",
    "#         alignments = pairwise2.align.globalxx(sequenceA=sequenceA, sequenceB=sequenceB)\n",
    "  \n",
    "#     if print_alignment:\n",
    "#         print(format_alignment(*alignments[0]))\n",
    "\n",
    "#     return (alignments[0].score)"
   ]
  },
  {
   "cell_type": "code",
   "execution_count": 7,
   "metadata": {},
   "outputs": [],
   "source": []
  },
  {
   "cell_type": "code",
   "execution_count": 15,
   "metadata": {},
   "outputs": [],
   "source": [
    "russ_values = {\n",
    "    \"CM2_Trn\": \"data/Russ_994_random.fasta\",\n",
    "    \"Russ\": \"outputs/models/russ/russ_gen.fasta\",\n",
    "    \"CM2_Tst\": \"data/Russ_226_random.fasta\",\n",
    "    \"Tau_Tst\": \"data/tautomerase_738.fasta\",\n",
    "    \"1_S\": \"outputs/models/ESM34/esm34_CH_2_e_coli_full_sequential_k0.fasta\",\n",
    "    \"1_R\": \"outputs/models/ESM34/E_coli_parallel_esm34.fasta\",\n",
    "    \"1_B\": \"outputs/models/ESM34/E_coli_parallel_burnin_esm34.fasta\",\n",
    "    \"1_C\": \"outputs/models/ESM34/E_coli_CM2_first_20_2549bd_trial1.fasta\",\n",
    "    \"1_N\": \"outputs/models/ESM34/NoSeed_2549bd_trial2.fasta\",\n",
    "    \"2_B\": \"outputs/models/esm1_t12_85M_UR50S/E_coli_parallel_burnin_esm12.fasta\",\n",
    "    \"3_B\": \"outputs/models/esm1_t12_85M_UR50S/finetuned/Russ_994_random/Dec04_13-47-23_6fb55ea4/generated_sequences/E_coli_CM2_6b9c30_trial5.fasta\",\n",
    "    \"3_C\": \"outputs/models/esm1_t12_85M_UR50S/finetuned/Russ_994_random/Dec04_13-47-23_6fb55ea4/generated_sequences/E_coli_CM2_first_20_7d2781_trial1.fasta\",\n",
    "    \"3_N\": \"outputs/models/esm1_t12_85M_UR50S/finetuned/Russ_994_random/Dec04_13-47-23_6fb55ea4/generated_sequences/NoSeed_83abbe_trial2.fasta\",\n",
    "    \"4_B\": \"outputs/models/esm1_t12_85M_UR50S/finetuned/tautomerase_2953/Dec04_14-13-14_c8588459/generated_sequences/E_coli_CM2_bb1f59_trial5.fasta\",\n",
    "    \"5_B\": \"outputs/models/ProtBert-BFD/E_coli_CM2_db515f_trial1.fasta\",\n",
    "    \"8_N\": \"outputs/models/ProtBert12-Russ/russ_from_scratch_100_epochs_no_seed.fasta\",\n",
    "    \"6_N\": \"outputs/models/3_gram_CM_2/Russ_994_random_3gram_generation_seed_s_len92.fasta\",\n",
    "    \"HMM\": \"outputs/models/hmmemit/Russ_994_hmmemit.fasta\"\n",
    "}\n",
    "\n",
    "tau_values = {\n",
    "    \"Tau_Trn\": \"data/tautomerase_2953.fasta\",\n",
    "    \"Tau_Tst\": \"data/tautomerase_738.fasta\",\n",
    "    \"4_B\": \"outputs/models/esm1_t12_85M_UR50S/finetuned/tautomerase_2953/Dec04_14-13-14_c8588459/generated_sequences/E_coli_CM2_bb1f59_trial5.fasta\",\n",
    "    \"4_N\": \"outputs/models/esm1_t12_85M_UR50S/finetuned/tautomerase_2953/Dec04_14-13-14_c8588459/generated_sequences/NoSeed_30995f_trial2.fasta\",\n",
    "    \"7_N\": \"outputs/models/3_gram_Tautomerase/tautomerase_2953_3gram_generation_seed_s_len60.fasta\"\n",
    "}\n",
    "\n"
   ]
  },
  {
   "cell_type": "code",
   "execution_count": 16,
   "metadata": {},
   "outputs": [],
   "source": [
    "def process_key(file_loc, train_sequence):\n",
    "    try:\n",
    "        samples = utils.parse_fasta(file_loc)\n",
    "    except Exception as e:\n",
    "        print(f\"skipping file:{file_loc}\")\n",
    "        return [],[]\n",
    "    results = []\n",
    "    print(file_loc)\n",
    "    for sample in samples:\n",
    "        best = 0\n",
    "        for ref_sequence in train_sequence:\n",
    "            score = align_sequences(ref_sequence, sample)\n",
    "            best = max(best, score)\n",
    "        results.append(best)\n",
    "    return samples, results"
   ]
  },
  {
   "cell_type": "code",
   "execution_count": null,
   "metadata": {},
   "outputs": [],
   "source": [
    "russ_samples = {}\n",
    "russ_results = {}\n",
    "tau_samples = {}\n",
    "tau_results = {}\n",
    "\n",
    "russ_train = utils.parse_fasta(russ_train_location)\n",
    "tau_train = utils.parse_fasta(tau_train_location)\n",
    "\n",
    "for sample_name, data_path in russ_values.items():\n",
    "    sample, result = process_key(Path(common_vars.project_dir) / data_path, russ_train)\n",
    "    russ_samples[sample_name] = sample\n",
    "    russ_results[sample_name] = result\n",
    "\n",
    "# for sample_name, data_path in tau_values.items():\n",
    "#     sample, result = process_key(Path(common_vars.project_dir) / data_path, tau_train)\n",
    "#     tau_samples[sample_name] = sample\n",
    "#     tau_results[sample_name] = result"
   ]
  },
  {
   "cell_type": "code",
   "execution_count": 21,
   "metadata": {},
   "outputs": [],
   "source": [
    "with open(output_dir / \"alignment_backup_nwalgin_2\", 'wb') as backup_file:\n",
    "    dill.dump((russ_samples, russ_results, tau_samples, tau_results), backup_file)\n",
    "with open(output_dir / \"alignment_backup_nwalgin_2\", 'rb') as backup_file:\n",
    "    data = dill.load(backup_file)\n"
   ]
  },
  {
   "cell_type": "code",
   "execution_count": 24,
   "metadata": {},
   "outputs": [],
   "source": [
    "(russ_samples, russ_results, tau_samples, tau_results) = data"
   ]
  },
  {
   "cell_type": "code",
   "execution_count": 25,
   "metadata": {},
   "outputs": [
    {
     "data": {
      "image/png": "[encoded data removed]",
      "text/plain": [
       "<Figure size 1440x360 with 1 Axes>"
      ]
     },
     "metadata": {},
     "output_type": "display_data"
    }
   ],
   "source": [
    "plt.clf()\n",
    "df = pd.DataFrame()\n",
    "scores = list()\n",
    "datasets = list()\n",
    "for k,v in russ_results.items():\n",
    "    scores += v\n",
    "    datasets += [k] * len(v)\n",
    "for k,v in tau_results.items():\n",
    "    scores += v\n",
    "    datasets += [k + \"*\"] * len(v)\n",
    "df[\"Dataset\"] = datasets\n",
    "df[\"Similarity Score\"] = scores\n",
    "\n",
    "sns.set(rc={'figure.figsize':(20,4)})\n",
    "ax = sns.boxplot(x=\"Dataset\", y=\"Similarity Score\", data=df)\n",
    "ax.figure.set_size_inches(20,5)\n",
    "ax.figure.savefig(output_dir / \"identity_wrt_most_aligned_training_value_both_nwalign_2.png\")"
   ]
  }
 ],
 "metadata": {
  "kernelspec": {
   "display_name": "Python 3",
   "language": "python",
   "name": "python3"
  },
  "language_info": {
   "codemirror_mode": {
    "name": "ipython",
    "version": 3
   },
   "file_extension": ".py",
   "mimetype": "text/x-python",
   "name": "python",
   "nbconvert_exporter": "python",
   "pygments_lexer": "ipython3",
   "version": "3.8.3"
  }
 },
 "nbformat": 4,
 "nbformat_minor": 4
}
