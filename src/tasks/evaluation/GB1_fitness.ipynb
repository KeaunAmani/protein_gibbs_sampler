{
 "cells": [
  {
   "cell_type": "code",
   "execution_count": null,
   "metadata": {
    "id": "8wfLj25SQDAL"
   },
   "outputs": [],
   "source": [
    "%load_ext autoreload\n",
    "%autoreload 2"
   ]
  },
  {
   "cell_type": "code",
   "execution_count": null,
   "metadata": {
    "colab": {
     "base_uri": "https://localhost:8080/"
    },
    "id": "tPGEKDnnTqzS",
    "outputId": "65b1edad-f7ab-4676-a64f-4f5414601a9e"
   },
   "outputs": [],
   "source": [
    "%cd /content/drive/MyDrive/Georgia Tech/Deep Learning/Project/common-workspace"
   ]
  },
  {
   "cell_type": "code",
   "execution_count": null,
   "metadata": {
    "id": "_4VJf9q9QdWZ"
   },
   "outputs": [],
   "source": [
    "!pip install git+https://github.com/facebookresearch/esm.git\n",
    "# !pip install -e esm\n",
    "!pip install -e ."
   ]
  },
  {
   "cell_type": "code",
   "execution_count": null,
   "metadata": {
    "id": "jWfptL_GQOmG"
   },
   "outputs": [],
   "source": [
    "import torch\n",
    "import esm\n",
    "import math\n",
    "import time\n",
    "\n",
    "from pgen import sampler_1\n",
    "from pgen import vanilla_esm34\n",
    "from pgen import vanilla_esm6"
   ]
  },
  {
   "cell_type": "code",
   "execution_count": null,
   "metadata": {
    "colab": {
     "base_uri": "https://localhost:8080/"
    },
    "id": "XyXZwKhSfdJ8",
    "outputId": "2ec1eb20-4db3-4340-d56f-b273d68bf728"
   },
   "outputs": [],
   "source": [
    "model = vanilla_esm34.ESM34()"
   ]
  },
  {
   "cell_type": "code",
   "execution_count": null,
   "metadata": {
    "id": "10aBDBCLi6MY"
   },
   "outputs": [],
   "source": [
    "sampler = sampler_1.Sampler_1(model,device=\"gpu\")"
   ]
  },
  {
   "cell_type": "code",
   "execution_count": null,
   "metadata": {
    "colab": {
     "base_uri": "https://localhost:8080/"
    },
    "id": "tCdn8iCXVoYM",
    "outputId": "edd14309-de07-45b0-b1f1-2ee45c799391"
   },
   "outputs": [],
   "source": [
    "ref = \"MTYKLILNGKTLKGETTTEAVDAATAEKVFKQYANDNGVDGEWTYDDATKTFTVTE\"\n",
    "indexes = [39, 40, 41, 54]\n",
    "n_samples = 300\n",
    "\n",
    "#Mimic old sequential sampler\n",
    "#TODO: maybe patch the sampler to mask the positions of interest until something is generated for them?\n",
    "sequential_results = sampler.generate(n_samples, seed_seq=ref, batch_size=10, in_order=True, max_len=len(ref), indexes=indexes, num_positions=1, num_iters=len(indexes), mask=True)\n",
    "\n",
    "#Generate all positions in parallel\n",
    "parallel_results = sampler.generate(n_samples, seed_seq=ref, batch_size=10, in_order=True, max_len=len(ref), indexes=indexes, num_positions=len(indexes), num_iters=1, mask=True)\n",
    "\n",
    "#Generate all positions in parallel, but only take the most likely sequence\n",
    "parallel_k_1 = sampler.generate(1, seed_seq=ref, batch_size=1, top_k=1, in_order=True, max_len=len(ref), indexes=indexes, num_positions=len(indexes), num_iters=1, mask=True)\n",
    "\n"
   ]
  },
  {
   "cell_type": "code",
   "execution_count": null,
   "metadata": {
    "id": "s8GpujtZnWtV"
   },
   "outputs": [],
   "source": [
    "# Load in fitness data\n",
    "import csv\n",
    "fitness_data = {}\n",
    "fitness_data_list = []\n",
    "with open('data/elife-16965-supp1.csv') as csvfile:\n",
    "  reader = csv.reader(csvfile, delimiter=',')\n",
    "  next(reader) # Skip header\n",
    "  for row in reader:\n",
    "    fitness_data[row[0]] = float(row[4])\n",
    "    fitness_data_list.append(float(row[4]))"
   ]
  },
  {
   "cell_type": "code",
   "execution_count": null,
   "metadata": {
    "id": "gsG3yFRNoOXD"
   },
   "outputs": [],
   "source": [
    "# Extract mutations from results\n",
    "scores = []\n",
    "for result in results:\n",
    "  mutation = \"\"\n",
    "  for i in indexes:\n",
    "    mutation += result[i-1]\n",
    "  scores.append(fitness_data.get(mutation, 0))"
   ]
  },
  {
   "cell_type": "code",
   "execution_count": null,
   "metadata": {
    "id": "9BsgT1Zfo9vV"
   },
   "outputs": [],
   "source": [
    "# Generate random scores\n",
    "import random\n",
    "rand_scores = []\n",
    "max_size = len(fitness_data)\n",
    "for i in range(n_samples):\n",
    "  idx = random.randrange(0, max_size)\n",
    "  rand_scores.append(fitness_data_list[idx])"
   ]
  },
  {
   "cell_type": "code",
   "execution_count": null,
   "metadata": {
    "colab": {
     "base_uri": "https://localhost:8080/"
    },
    "id": "pErvz_3eo6w5",
    "outputId": "930206bf-f22e-44df-9a8c-679647cdd175"
   },
   "outputs": [],
   "source": [
    "print('min', min(scores))\n",
    "print('max', max(scores))\n",
    "print('mean', sum(scores) / n_samples)"
   ]
  },
  {
   "cell_type": "code",
   "execution_count": null,
   "metadata": {
    "colab": {
     "base_uri": "https://localhost:8080/"
    },
    "id": "gyuiR5cKqATP",
    "outputId": "21ec0031-364d-412f-ce45-b8732becc00f"
   },
   "outputs": [],
   "source": [
    "print('min', min(rand_scores))\n",
    "print('max', max(rand_scores))\n",
    "print('mean', sum(rand_scores) / n_samples)"
   ]
  },
  {
   "cell_type": "code",
   "execution_count": null,
   "metadata": {
    "colab": {
     "base_uri": "https://localhost:8080/",
     "height": 692.0
    },
    "id": "msIH8ECOqgvV",
    "outputId": "07735b86-a2bf-4595-ff7b-7a80998fcc79"
   },
   "outputs": [],
   "source": [
    "import numpy as np\n",
    "import matplotlib.pyplot as plt\n",
    "\n",
    "random_data = np.array(rand_scores)\n",
    "fig1, ax1 = plt.subplots()\n",
    "ax1.set_title('Random')\n",
    "ax1.boxplot(data)\n",
    "\n",
    "esm_data = np.array(scores)\n",
    "fig2, ax2 = plt.subplots()\n",
    "ax2.set_title('ESM')\n",
    "ax2.boxplot(esm_data)"
   ]
  }
 ],
 "metadata": {
  "accelerator": "GPU",
  "colab": {
   "collapsed_sections": [],
   "name": "GB1 fitness.ipynb",
   "provenance": []
  },
  "kernelspec": {
   "display_name": "Python 3",
   "language": "python",
   "name": "python3"
  },
  "language_info": {
   "codemirror_mode": {
    "name": "ipython",
    "version": 3
   },
   "file_extension": ".py",
   "mimetype": "text/x-python",
   "name": "python",
   "nbconvert_exporter": "python",
   "pygments_lexer": "ipython3",
   "version": "3.7.8"
  }
 },
 "nbformat": 4,
 "nbformat_minor": 4
}
