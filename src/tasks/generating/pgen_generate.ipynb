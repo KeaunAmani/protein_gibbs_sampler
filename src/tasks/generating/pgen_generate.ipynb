{
 "cells": [
  {
   "cell_type": "code",
   "execution_count": 1,
   "metadata": {},
   "outputs": [],
   "source": [
    "%load_ext autoreload\n",
    "%autoreload 2"
   ]
  },
  {
   "cell_type": "code",
   "execution_count": 3,
   "metadata": {},
   "outputs": [],
   "source": [
    "import torch\n",
    "import esm\n",
    "\n",
    "import math\n",
    "import time\n",
    "\n",
    "from pgen import sampler_1\n",
    "from pgen import vanilla_esm34\n",
    "from pgen import vanilla_esm12\n",
    "from pgen import vanilla_esm6\n",
    "from pgen import utils\n",
    "\n",
    "from pathlib import Path\n",
    "common_vars = utils.CommonVars()"
   ]
  },
  {
   "cell_type": "code",
   "execution_count": 5,
   "metadata": {},
   "outputs": [],
   "source": [
    "sampler34 = sampler_1.Sampler_1(vanilla_esm34.ESM34(),device=\"cpu\")"
   ]
  },
  {
   "cell_type": "code",
   "execution_count": 8,
   "metadata": {},
   "outputs": [],
   "source": [
    "sampler12 = sampler_1.Sampler_1(vanilla_esm12.ESM12(),device=\"cpu\")"
   ]
  },
  {
   "cell_type": "code",
   "execution_count": null,
   "metadata": {},
   "outputs": [],
   "source": [
    "sampler6 = sampler_1.Sampler_1(vanilla_esm6.ESM6(),device=\"cpu\")"
   ]
  },
  {
   "cell_type": "code",
   "execution_count": 20,
   "metadata": {},
   "outputs": [],
   "source": [
    "E_coli_CM2 = \"MTSENPLLALREKISALDEKLLALLAERRELAVEVGKAKLLSHRPVRDIDRERDLLERLITLGKAHHLDAHYITRLFQLIIEDSVLTQQALLQQH\" #score 65.5\n",
    "best_CM2 = \"MDYQEKLKALRQEIDSIDNQILELINKRATLAKEVGEIKKANNLPIFVPSREKEIFDRLEKLNKGPLPTDIVKHIFREIISACRSIEENIKVVY\" #score 100.7\n",
    "\n",
    "E_coli_CM2_first_40 = \"MTSENPLLALREKISALDEKLLALLAERRELAVEVGKAKL\"\n",
    "E_coli_CM2_first_20 = \"MTSENPLLALREKISALDEK\""
   ]
  },
  {
   "cell_type": "code",
   "execution_count": null,
   "metadata": {},
   "outputs": [],
   "source": [
    "#settings for generating 500 e coli sequences sequentially, takes more than 24 hours on laptop of SRJ\n",
    "seed = E_coli_CM2\n",
    "E_coli_esm34 = sampler34.generate(n_samples=500, seed_seq=seed, batch_size=4, max_len=len(seed), in_order=True, num_positions=1, num_iters=len(seed), mask=True)"
   ]
  },
  {
   "cell_type": "code",
   "execution_count": null,
   "metadata": {},
   "outputs": [],
   "source": [
    "#settings for generating 100 e coli sequences random 10% at a time,\n",
    "seed = E_coli_CM2\n",
    "E_coli_esm34_parallel = sampler34.generate(n_samples=100, seed_seq=seed, batch_size=4, max_len=len(seed), in_order=False, num_positions=int(len(seed)/10), num_iters=20, mask=True)\n",
    "utils.write_sequential_fasta(Path(common_vars.project_dir) / \"data\" / \"E_coli_parallel_esm34.fasta\", E_coli_esm34_parallel)"
   ]
  },
  {
   "cell_type": "code",
   "execution_count": null,
   "metadata": {},
   "outputs": [],
   "source": [
    "#settings for generating 100 e coli sequences sequentially, from ESM12\n",
    "seed = E_coli_CM2\n",
    "E_coli_esm12 = sampler12.generate(n_samples=100, seed_seq=seed, batch_size=10, max_len=len(seed), in_order=True, num_positions=1, num_iters=len(seed), mask=True)\n",
    "utils.write_sequential_fasta(Path(common_vars.project_dir) / \"data\" / \"E_coli_sequential_esm12.fasta\", E_coli_esm12)"
   ]
  },
  {
   "cell_type": "code",
   "execution_count": null,
   "metadata": {},
   "outputs": [],
   "source": [
    "seed = E_coli_CM2\n",
    "E_coli_esm12_parallel = sampler12.generate(n_samples=100, seed_seq=seed, batch_size=4, max_len=len(seed), in_order=False, num_positions=int(len(seed)/10), num_iters=20, mask=True)\n",
    "utils.write_sequential_fasta(Path(common_vars.project_dir) / \"data\" / \"E_coli_parallel_esm12.fasta\", E_coli_esm12_parallel)"
   ]
  },
  {
   "cell_type": "code",
   "execution_count": null,
   "metadata": {},
   "outputs": [],
   "source": [
    "#generate \n",
    "seed = best_CM2\n",
    "Best_CM2_esm34_2 = sampler34.generate(n_samples=100, seed_seq=seed, batch_size=4, max_len=len(seed), in_order=True, num_positions=1, num_iters=len(seed), mask=True)\n",
    "utils.write_sequential_fasta(Path(common_vars.project_dir) / \"data\" / \"Best_CM2_esm34.fasta\", Best_CM2_esm34_2)"
   ]
  },
  {
   "cell_type": "code",
   "execution_count": null,
   "metadata": {},
   "outputs": [],
   "source": [
    "#settings for generating 1 e coli sequence with k=1\n",
    "seed = E_coli_CM2\n",
    "E_coli_esm34_sequential_k1 = sampler34.generate(n_samples=1, seed_seq=seed, batch_size=1, max_len=len(seed), in_order=True, num_positions=1, num_iters=len(seed), top_k=1, mask=True)\n",
    "utils.write_sequential_fasta(Path(common_vars.project_dir) / \"data\" / \"E_coli_sequential_k1_esm34.fasta\", E_coli_esm34_sequential_k1)\n",
    "\n",
    "#settings for generating 1 e coli sequence with k=1 and no mask\n",
    "seed = E_coli_CM2\n",
    "E_coli_esm34_sequential_k1_no_mask = sampler34.generate(n_samples=1, seed_seq=seed, batch_size=1, max_len=len(seed), in_order=True, num_positions=1, num_iters=len(seed), top_k=1, mask=False)\n",
    "utils.write_sequential_fasta(Path(common_vars.project_dir) / \"data\" / \"E_coli_sequential_k1_no_mask_esm34.fasta\", E_coli_esm34_sequential_k1_no_mask)\n",
    "\n",
    "#settings for generating 100 e coli sequences random 10% at a time, with 10 round burnin\n",
    "seed = E_coli_CM2\n",
    "E_coli_esm34_parallel_burnin = sampler34.generate(n_samples=100, seed_seq=seed, batch_size=4, max_len=len(seed), in_order=False, num_positions=int(len(seed)/10), num_iters=20, burnin=10, mask=True)\n",
    "utils.write_sequential_fasta(Path(common_vars.project_dir) / \"data\" / \"E_coli_parallel_burnin_esm34.fasta\", E_coli_esm34_parallel_burnin)\n",
    "\n",
    "#settings for generating 100 e coli sequences random 10% at a time, with top_k=1 for the whole thing\n",
    "seed = E_coli_CM2\n",
    "E_coli_esm34_parallel_k1 = sampler34.generate(n_samples=100, seed_seq=seed, batch_size=4, max_len=len(seed), in_order=False, num_positions=int(len(seed)/10), num_iters=20, top_k=1, mask=True)\n",
    "utils.write_sequential_fasta(Path(common_vars.project_dir) / \"data\" / \"E_coli_parallel_k1_esm34.fasta\", E_coli_esm34_parallel_k1)"
   ]
  },
  {
   "cell_type": "code",
   "execution_count": null,
   "metadata": {},
   "outputs": [],
   "source": [
    "#settings for generating 100 e coli sequences random 10% at a time, with 10 round burnin\n",
    "seed = E_coli_CM2\n",
    "E_coli_esm12_parallel_burnin = sampler12.generate(n_samples=100, seed_seq=seed, batch_size=4, max_len=len(seed), in_order=False, num_positions=int(len(seed)/10), num_iters=20, burnin=10, mask=True)\n",
    "utils.write_sequential_fasta(Path(common_vars.project_dir) / \"data\" / \"E_coli_parallel_burnin_esm12.fasta\", E_coli_esm12_parallel_burnin)\n"
   ]
  },
  {
   "cell_type": "code",
   "execution_count": null,
   "metadata": {},
   "outputs": [],
   "source": [
    "# sequence completion\n",
    "seed = E_coli_CM2_first_40\n",
    "target_length=95\n",
    "E_coli_esm34_40 = sampler34.generate(n_samples=100, seed_seq=seed, batch_size=4, max_len=target_length, in_order=True, leader_length=len(seed), num_positions=1, num_iters=target_length-len(seed), mask=True)\n",
    "utils.write_sequential_fasta(Path(common_vars.project_dir) / \"data\" / \"E_coli_sequential_40seed_esm34.fasta\", E_coli_esm34_40)\n",
    "\n",
    "E_coli_esm12_40 = sampler12.generate(n_samples=100, seed_seq=seed, batch_size=4, max_len=target_length, in_order=True, leader_length=len(seed), num_positions=1, num_iters=target_length-len(seed), mask=True)\n",
    "utils.write_sequential_fasta(Path(common_vars.project_dir) / \"data\" / \"E_coli_sequential_40seed_esm12.fasta\", E_coli_esm12_40)\n",
    "\n",
    "E_coli_esm34_k1_40 = sampler34.generate(n_samples=1, seed_seq=seed, batch_size=1, max_len=target_length, in_order=True, leader_length=len(seed), top_k=1, num_positions=1, num_iters=target_length-len(seed), mask=True)\n",
    "utils.write_sequential_fasta(Path(common_vars.project_dir) / \"data\" / \"E_coli_sequential_40seed_k1_esm34.fasta\", E_coli_esm34_k1_40)\n",
    "\n",
    "E_coli_esm12_k1_40 = sampler12.generate(n_samples=1, seed_seq=seed, batch_size=1, max_len=target_length, in_order=True, leader_length=len(seed), top_k=1, num_positions=1, num_iters=target_length-len(seed), mask=True)\n",
    "utils.write_sequential_fasta(Path(common_vars.project_dir) / \"data\" / \"E_coli_sequential_40seed_k1_esm12.fasta\", E_coli_esm12_k1_40)\n",
    "\n",
    "\n",
    "\n",
    "seed = E_coli_CM2_first_20\n",
    "target_length=95\n",
    "E_coli_esm34_20 = sampler34.generate(n_samples=100, seed_seq=seed, batch_size=4, max_len=target_length, in_order=True, leader_length=len(seed), num_positions=1, num_iters=target_length-len(seed), mask=True)\n",
    "utils.write_sequential_fasta(Path(common_vars.project_dir) / \"data\" / \"E_coli_sequential_20seed_esm34.fasta\", E_coli_esm34_20)\n",
    "\n",
    "E_coli_esm12_20 = sampler12.generate(n_samples=100, seed_seq=seed, batch_size=4, max_len=target_length, in_order=True, leader_length=len(seed), num_positions=1, num_iters=target_length-len(seed), mask=True)\n",
    "utils.write_sequential_fasta(Path(common_vars.project_dir) / \"data\" / \"E_coli_sequential_20seed_esm12.fasta\", E_coli_esm12_20)\n",
    "\n",
    "E_coli_esm34_k1_20 = sampler34.generate(n_samples=1, seed_seq=seed, batch_size=1, max_len=target_length, in_order=True, leader_length=len(seed), top_k=1, num_positions=1, num_iters=target_length-len(seed), mask=True)\n",
    "utils.write_sequential_fasta(Path(common_vars.project_dir) / \"data\" / \"E_coli_sequential_20seed_k1_esm34.fasta\", E_coli_esm34_k1_20)\n",
    "\n",
    "E_coli_esm12_k1_20 = sampler12.generate(n_samples=1, seed_seq=seed, batch_size=1, max_len=target_length, in_order=True, leader_length=len(seed), top_k=1, num_positions=1, num_iters=target_length-len(seed), mask=True)\n",
    "utils.write_sequential_fasta(Path(common_vars.project_dir) / \"data\" / \"E_coli_sequential_20seed_k1_esm12.fasta\", E_coli_esm12_k1_20)"
   ]
  },
  {
   "cell_type": "code",
   "execution_count": null,
   "metadata": {},
   "outputs": [],
   "source": [
    "seed = E_coli_CM2_first_20\n",
    "target_length=95\n",
    "E_coli_esm12_k0_20 = sampler12.generate(n_samples=1, seed_seq=seed, batch_size=1, max_len=target_length, in_order=True, leader_length=20, top_k=0, num_positions=1, num_iters=target_length-len(seed), mask=True)\n",
    "E_coli_esm12_k0_20_rollover = sampler12.generate(n_samples=1, seed_seq=seed, batch_size=1, max_len=target_length, in_order=True, leader_length=20, top_k=0, num_positions=1, num_iters=95, mask=True, rollover_from_start=True)\n",
    "\n",
    "#utils.write_sequential_fasta(Path(common_vars.project_dir) / \"data\" / \"E_coli_sequential_20seed_k1_esm12.fasta\", E_coli_esm12_k1_20)"
   ]
  },
  {
   "cell_type": "code",
   "execution_count": null,
   "metadata": {},
   "outputs": [],
   "source": [
    "E_coli_esm34_k1_40 = sampler34.generate(n_samples=100, seed_seq=seed, batch_size=1, max_len=target_length, in_order=True, leader_length=len(seed), top_k=1, num_positions=1, num_iters=target_length-len(seed), mask=True)\n",
    "utils.write_sequential_fasta(Path(common_vars.project_dir) / \"data\" / \"E_coli_sequential_40seed_k1_esm34.fasta\", E_coli_esm34_k1_40)"
   ]
  },
  {
   "cell_type": "code",
   "execution_count": 17,
   "metadata": {},
   "outputs": [
    {
     "name": "stdout",
     "output_type": "stream",
     "text": [
      "['MTSENPLLALREKISALDEK']\n",
      "['MTSENPLLALREKISALDEKISALEEKISALEEKISALEAAAAAAAAAAAAAAAAAAAAAAAAAAAAAAAAAAAAAAAAAAAAAAAAAAAAAAAA']\n",
      "['MSEENELKELLERIDKLEEKLDKLEEKLDKLEEKLDKLEEKLDKLEEKLDKLEEKLDKLEEKLDKLEEKLDKLEEKLDKLEEKLDKLEEKLDKLE']\n",
      "['MTSENPLLALREKISALDEKYQQMSDKLDQLVALIDTLKAAASATVNGQPLVLNQPPAGISLPTQAWAFGHNGHTNYHSAADYDAMWAAETMRFL']\n",
      "['MPDTDALTKVEERLAGLDGGDTPELIRAFHLARTVAEDELRSIPVDVVHADDLDGDGDLGETGSGPRVVVRPANPKPKADKKSKKDKGRRKNTGN']\n"
     ]
    }
   ],
   "source": [
    "print([E_coli_CM2_first_20])\n",
    "print(E_coli_esm12_k1_20)\n",
    "print(E_coli_esm12_k1_20_rollover)\n",
    "print(E_coli_esm34_k0_20)\n",
    "print(E_coli_esm43_k0_20_rollover)"
   ]
  },
  {
   "cell_type": "code",
   "execution_count": 22,
   "metadata": {},
   "outputs": [
    {
     "name": "stdout",
     "output_type": "stream",
     "text": [
      "0\n",
      "iter 1\n",
      "iter 11\n",
      "iter 21\n",
      "iter 31\n",
      "iter 41\n",
      "iter 51\n",
      "iter 61\n",
      "iter 71\n",
      "iter 81\n",
      "iter 91\n",
      "iter 101\n",
      "iter 111\n",
      "iter 121\n",
      "iter 131\n",
      "iter 141\n",
      "iter 151\n",
      "iter 161\n",
      "iter 171\n",
      "iter 181\n"
     ]
    },
    {
     "ename": "KeyboardInterrupt",
     "evalue": "",
     "output_type": "error",
     "traceback": [
      "\u001b[0;31m---------------------------------------------------------------------------\u001b[0m",
      "\u001b[0;31mKeyboardInterrupt\u001b[0m                         Traceback (most recent call last)",
      "\u001b[0;32m<ipython-input-22-e83d15d89538>\u001b[0m in \u001b[0;36m<module>\u001b[0;34m\u001b[0m\n\u001b[0;32m----> 1\u001b[0;31m \u001b[0mE_coli_esm34_seed_20_rollover\u001b[0m \u001b[0;34m=\u001b[0m \u001b[0msampler34\u001b[0m\u001b[0;34m.\u001b[0m\u001b[0mgenerate\u001b[0m\u001b[0;34m(\u001b[0m\u001b[0mn_samples\u001b[0m\u001b[0;34m=\u001b[0m\u001b[0;36m100\u001b[0m\u001b[0;34m,\u001b[0m \u001b[0mseed_seq\u001b[0m\u001b[0;34m=\u001b[0m\u001b[0;34m\"MTSENPLLALREKISALDEK\"\u001b[0m\u001b[0;34m,\u001b[0m \u001b[0mbatch_size\u001b[0m\u001b[0;34m=\u001b[0m\u001b[0;36m4\u001b[0m\u001b[0;34m,\u001b[0m \u001b[0mmax_len\u001b[0m\u001b[0;34m=\u001b[0m\u001b[0;36m95\u001b[0m\u001b[0;34m,\u001b[0m \u001b[0min_order\u001b[0m\u001b[0;34m=\u001b[0m\u001b[0;32mTrue\u001b[0m\u001b[0;34m,\u001b[0m \u001b[0mleader_length\u001b[0m\u001b[0;34m=\u001b[0m\u001b[0;36m20\u001b[0m\u001b[0;34m,\u001b[0m \u001b[0mtop_k\u001b[0m\u001b[0;34m=\u001b[0m\u001b[0;36m0\u001b[0m\u001b[0;34m,\u001b[0m \u001b[0mnum_positions\u001b[0m\u001b[0;34m=\u001b[0m\u001b[0;36m1\u001b[0m\u001b[0;34m,\u001b[0m \u001b[0mnum_iters\u001b[0m\u001b[0;34m=\u001b[0m\u001b[0;36m190\u001b[0m\u001b[0;34m,\u001b[0m \u001b[0mmask\u001b[0m\u001b[0;34m=\u001b[0m\u001b[0;32mTrue\u001b[0m\u001b[0;34m,\u001b[0m \u001b[0mrollover_from_start\u001b[0m\u001b[0;34m=\u001b[0m\u001b[0;32mTrue\u001b[0m\u001b[0;34m)\u001b[0m\u001b[0;34m\u001b[0m\u001b[0;34m\u001b[0m\u001b[0m\n\u001b[0m\u001b[1;32m      2\u001b[0m \u001b[0mutils\u001b[0m\u001b[0;34m.\u001b[0m\u001b[0mwrite_sequential_fasta\u001b[0m\u001b[0;34m(\u001b[0m\u001b[0mPath\u001b[0m\u001b[0;34m(\u001b[0m\u001b[0mcommon_vars\u001b[0m\u001b[0;34m.\u001b[0m\u001b[0mproject_dir\u001b[0m\u001b[0;34m)\u001b[0m \u001b[0;34m/\u001b[0m \u001b[0;34m\"data\"\u001b[0m \u001b[0;34m/\u001b[0m \u001b[0;34m\"E_coli_esm34_seed_20_rollover.fasta\"\u001b[0m\u001b[0;34m,\u001b[0m \u001b[0mE_coli_esm34_seed_20_rollover\u001b[0m\u001b[0;34m)\u001b[0m\u001b[0;34m\u001b[0m\u001b[0;34m\u001b[0m\u001b[0m\n",
      "\u001b[0;32m/workspace/code/project/src/pgen/sampler_1.py\u001b[0m in \u001b[0;36mgenerate\u001b[0;34m(self, n_samples, seed_seq, batch_size, in_order, max_len, leader_length, top_k, temperature, num_iters, burnin, cuda, print_every_inner, print_every_outer, verbose, mask, num_positions, indexes, rollover_from_start)\u001b[0m\n\u001b[1;32m    166\u001b[0m                         \u001b[0mbatch\u001b[0m\u001b[0;34m[\u001b[0m\u001b[0;34m:\u001b[0m\u001b[0;34m,\u001b[0m\u001b[0mkk\u001b[0m\u001b[0;34m]\u001b[0m \u001b[0;34m=\u001b[0m \u001b[0mself\u001b[0m\u001b[0;34m.\u001b[0m\u001b[0mmodel\u001b[0m\u001b[0;34m.\u001b[0m\u001b[0malphabet\u001b[0m\u001b[0;34m.\u001b[0m\u001b[0mmask_idx\u001b[0m\u001b[0;34m\u001b[0m\u001b[0;34m\u001b[0m\u001b[0m\n\u001b[1;32m    167\u001b[0m \u001b[0;34m\u001b[0m\u001b[0m\n\u001b[0;32m--> 168\u001b[0;31m                 \u001b[0mout\u001b[0m \u001b[0;34m=\u001b[0m \u001b[0mself\u001b[0m\u001b[0;34m.\u001b[0m\u001b[0mmodel\u001b[0m\u001b[0;34m.\u001b[0m\u001b[0mmodel\u001b[0m\u001b[0;34m(\u001b[0m\u001b[0mbatch\u001b[0m\u001b[0;34m)\u001b[0m\u001b[0;34m[\u001b[0m\u001b[0;34m\"logits\"\u001b[0m\u001b[0;34m]\u001b[0m\u001b[0;34m\u001b[0m\u001b[0;34m\u001b[0m\u001b[0m\n\u001b[0m\u001b[1;32m    169\u001b[0m                 \u001b[0;32mfor\u001b[0m \u001b[0mkk\u001b[0m \u001b[0;32min\u001b[0m \u001b[0mtarget_indexes\u001b[0m\u001b[0;34m:\u001b[0m\u001b[0;34m\u001b[0m\u001b[0;34m\u001b[0m\u001b[0m\n\u001b[1;32m    170\u001b[0m                     \u001b[0midxs\u001b[0m \u001b[0;34m=\u001b[0m \u001b[0mself\u001b[0m\u001b[0;34m.\u001b[0m\u001b[0mgenerate_step\u001b[0m\u001b[0;34m(\u001b[0m\u001b[0mout\u001b[0m\u001b[0;34m,\u001b[0m \u001b[0mgen_idx\u001b[0m\u001b[0;34m=\u001b[0m\u001b[0mkk\u001b[0m\u001b[0;34m,\u001b[0m \u001b[0mtop_k\u001b[0m\u001b[0;34m=\u001b[0m\u001b[0mtop_k\u001b[0m\u001b[0;34m,\u001b[0m \u001b[0mtemperature\u001b[0m\u001b[0;34m=\u001b[0m\u001b[0mtemperature\u001b[0m\u001b[0;34m,\u001b[0m \u001b[0msample\u001b[0m\u001b[0;34m=\u001b[0m\u001b[0;34m(\u001b[0m\u001b[0mii\u001b[0m \u001b[0;34m<\u001b[0m \u001b[0mburnin\u001b[0m\u001b[0;34m)\u001b[0m\u001b[0;34m)\u001b[0m\u001b[0;34m\u001b[0m\u001b[0;34m\u001b[0m\u001b[0m\n",
      "\u001b[0;32m/opt/conda/lib/python3.8/site-packages/torch/nn/modules/module.py\u001b[0m in \u001b[0;36m_call_impl\u001b[0;34m(self, *input, **kwargs)\u001b[0m\n\u001b[1;32m    725\u001b[0m             \u001b[0mresult\u001b[0m \u001b[0;34m=\u001b[0m \u001b[0mself\u001b[0m\u001b[0;34m.\u001b[0m\u001b[0m_slow_forward\u001b[0m\u001b[0;34m(\u001b[0m\u001b[0;34m*\u001b[0m\u001b[0minput\u001b[0m\u001b[0;34m,\u001b[0m \u001b[0;34m**\u001b[0m\u001b[0mkwargs\u001b[0m\u001b[0;34m)\u001b[0m\u001b[0;34m\u001b[0m\u001b[0;34m\u001b[0m\u001b[0m\n\u001b[1;32m    726\u001b[0m         \u001b[0;32melse\u001b[0m\u001b[0;34m:\u001b[0m\u001b[0;34m\u001b[0m\u001b[0;34m\u001b[0m\u001b[0m\n\u001b[0;32m--> 727\u001b[0;31m             \u001b[0mresult\u001b[0m \u001b[0;34m=\u001b[0m \u001b[0mself\u001b[0m\u001b[0;34m.\u001b[0m\u001b[0mforward\u001b[0m\u001b[0;34m(\u001b[0m\u001b[0;34m*\u001b[0m\u001b[0minput\u001b[0m\u001b[0;34m,\u001b[0m \u001b[0;34m**\u001b[0m\u001b[0mkwargs\u001b[0m\u001b[0;34m)\u001b[0m\u001b[0;34m\u001b[0m\u001b[0;34m\u001b[0m\u001b[0m\n\u001b[0m\u001b[1;32m    728\u001b[0m         for hook in itertools.chain(\n\u001b[1;32m    729\u001b[0m                 \u001b[0m_global_forward_hooks\u001b[0m\u001b[0;34m.\u001b[0m\u001b[0mvalues\u001b[0m\u001b[0;34m(\u001b[0m\u001b[0;34m)\u001b[0m\u001b[0;34m,\u001b[0m\u001b[0;34m\u001b[0m\u001b[0;34m\u001b[0m\u001b[0m\n",
      "\u001b[0;32m/workspace/code/project/esm/esm/model.py\u001b[0m in \u001b[0;36mforward\u001b[0;34m(self, tokens, repr_layers, need_head_weights, return_contacts)\u001b[0m\n\u001b[1;32m    143\u001b[0m \u001b[0;34m\u001b[0m\u001b[0m\n\u001b[1;32m    144\u001b[0m         \u001b[0;32mfor\u001b[0m \u001b[0mlayer_idx\u001b[0m\u001b[0;34m,\u001b[0m \u001b[0mlayer\u001b[0m \u001b[0;32min\u001b[0m \u001b[0menumerate\u001b[0m\u001b[0;34m(\u001b[0m\u001b[0mself\u001b[0m\u001b[0;34m.\u001b[0m\u001b[0mlayers\u001b[0m\u001b[0;34m)\u001b[0m\u001b[0;34m:\u001b[0m\u001b[0;34m\u001b[0m\u001b[0;34m\u001b[0m\u001b[0m\n\u001b[0;32m--> 145\u001b[0;31m             \u001b[0mx\u001b[0m\u001b[0;34m,\u001b[0m \u001b[0mattn\u001b[0m \u001b[0;34m=\u001b[0m \u001b[0mlayer\u001b[0m\u001b[0;34m(\u001b[0m\u001b[0mx\u001b[0m\u001b[0;34m,\u001b[0m \u001b[0mself_attn_padding_mask\u001b[0m\u001b[0;34m=\u001b[0m\u001b[0mpadding_mask\u001b[0m\u001b[0;34m,\u001b[0m \u001b[0mneed_head_weights\u001b[0m\u001b[0;34m=\u001b[0m\u001b[0mneed_head_weights\u001b[0m\u001b[0;34m)\u001b[0m\u001b[0;34m\u001b[0m\u001b[0;34m\u001b[0m\u001b[0m\n\u001b[0m\u001b[1;32m    146\u001b[0m             \u001b[0;32mif\u001b[0m \u001b[0;34m(\u001b[0m\u001b[0mlayer_idx\u001b[0m \u001b[0;34m+\u001b[0m \u001b[0;36m1\u001b[0m\u001b[0;34m)\u001b[0m \u001b[0;32min\u001b[0m \u001b[0mrepr_layers\u001b[0m\u001b[0;34m:\u001b[0m\u001b[0;34m\u001b[0m\u001b[0;34m\u001b[0m\u001b[0m\n\u001b[1;32m    147\u001b[0m                 \u001b[0mhidden_representations\u001b[0m\u001b[0;34m[\u001b[0m\u001b[0mlayer_idx\u001b[0m \u001b[0;34m+\u001b[0m \u001b[0;36m1\u001b[0m\u001b[0;34m]\u001b[0m \u001b[0;34m=\u001b[0m \u001b[0mx\u001b[0m\u001b[0;34m.\u001b[0m\u001b[0mtranspose\u001b[0m\u001b[0;34m(\u001b[0m\u001b[0;36m0\u001b[0m\u001b[0;34m,\u001b[0m \u001b[0;36m1\u001b[0m\u001b[0;34m)\u001b[0m\u001b[0;34m\u001b[0m\u001b[0;34m\u001b[0m\u001b[0m\n",
      "\u001b[0;32m/opt/conda/lib/python3.8/site-packages/torch/nn/modules/module.py\u001b[0m in \u001b[0;36m_call_impl\u001b[0;34m(self, *input, **kwargs)\u001b[0m\n\u001b[1;32m    725\u001b[0m             \u001b[0mresult\u001b[0m \u001b[0;34m=\u001b[0m \u001b[0mself\u001b[0m\u001b[0;34m.\u001b[0m\u001b[0m_slow_forward\u001b[0m\u001b[0;34m(\u001b[0m\u001b[0;34m*\u001b[0m\u001b[0minput\u001b[0m\u001b[0;34m,\u001b[0m \u001b[0;34m**\u001b[0m\u001b[0mkwargs\u001b[0m\u001b[0;34m)\u001b[0m\u001b[0;34m\u001b[0m\u001b[0;34m\u001b[0m\u001b[0m\n\u001b[1;32m    726\u001b[0m         \u001b[0;32melse\u001b[0m\u001b[0;34m:\u001b[0m\u001b[0;34m\u001b[0m\u001b[0;34m\u001b[0m\u001b[0m\n\u001b[0;32m--> 727\u001b[0;31m             \u001b[0mresult\u001b[0m \u001b[0;34m=\u001b[0m \u001b[0mself\u001b[0m\u001b[0;34m.\u001b[0m\u001b[0mforward\u001b[0m\u001b[0;34m(\u001b[0m\u001b[0;34m*\u001b[0m\u001b[0minput\u001b[0m\u001b[0;34m,\u001b[0m \u001b[0;34m**\u001b[0m\u001b[0mkwargs\u001b[0m\u001b[0;34m)\u001b[0m\u001b[0;34m\u001b[0m\u001b[0;34m\u001b[0m\u001b[0m\n\u001b[0m\u001b[1;32m    728\u001b[0m         for hook in itertools.chain(\n\u001b[1;32m    729\u001b[0m                 \u001b[0m_global_forward_hooks\u001b[0m\u001b[0;34m.\u001b[0m\u001b[0mvalues\u001b[0m\u001b[0;34m(\u001b[0m\u001b[0;34m)\u001b[0m\u001b[0;34m,\u001b[0m\u001b[0;34m\u001b[0m\u001b[0;34m\u001b[0m\u001b[0m\n",
      "\u001b[0;32m/workspace/code/project/esm/esm/modules.py\u001b[0m in \u001b[0;36mforward\u001b[0;34m(self, x, self_attn_mask, self_attn_padding_mask, need_head_weights)\u001b[0m\n\u001b[1;32m    103\u001b[0m         \u001b[0mresidual\u001b[0m \u001b[0;34m=\u001b[0m \u001b[0mx\u001b[0m\u001b[0;34m\u001b[0m\u001b[0;34m\u001b[0m\u001b[0m\n\u001b[1;32m    104\u001b[0m         \u001b[0mx\u001b[0m \u001b[0;34m=\u001b[0m \u001b[0mself\u001b[0m\u001b[0;34m.\u001b[0m\u001b[0mself_attn_layer_norm\u001b[0m\u001b[0;34m(\u001b[0m\u001b[0mx\u001b[0m\u001b[0;34m)\u001b[0m\u001b[0;34m\u001b[0m\u001b[0;34m\u001b[0m\u001b[0m\n\u001b[0;32m--> 105\u001b[0;31m         x, attn = self.self_attn(\n\u001b[0m\u001b[1;32m    106\u001b[0m             \u001b[0mquery\u001b[0m\u001b[0;34m=\u001b[0m\u001b[0mx\u001b[0m\u001b[0;34m,\u001b[0m\u001b[0;34m\u001b[0m\u001b[0;34m\u001b[0m\u001b[0m\n\u001b[1;32m    107\u001b[0m             \u001b[0mkey\u001b[0m\u001b[0;34m=\u001b[0m\u001b[0mx\u001b[0m\u001b[0;34m,\u001b[0m\u001b[0;34m\u001b[0m\u001b[0;34m\u001b[0m\u001b[0m\n",
      "\u001b[0;32m/opt/conda/lib/python3.8/site-packages/torch/nn/modules/module.py\u001b[0m in \u001b[0;36m_call_impl\u001b[0;34m(self, *input, **kwargs)\u001b[0m\n\u001b[1;32m    725\u001b[0m             \u001b[0mresult\u001b[0m \u001b[0;34m=\u001b[0m \u001b[0mself\u001b[0m\u001b[0;34m.\u001b[0m\u001b[0m_slow_forward\u001b[0m\u001b[0;34m(\u001b[0m\u001b[0;34m*\u001b[0m\u001b[0minput\u001b[0m\u001b[0;34m,\u001b[0m \u001b[0;34m**\u001b[0m\u001b[0mkwargs\u001b[0m\u001b[0;34m)\u001b[0m\u001b[0;34m\u001b[0m\u001b[0;34m\u001b[0m\u001b[0m\n\u001b[1;32m    726\u001b[0m         \u001b[0;32melse\u001b[0m\u001b[0;34m:\u001b[0m\u001b[0;34m\u001b[0m\u001b[0;34m\u001b[0m\u001b[0m\n\u001b[0;32m--> 727\u001b[0;31m             \u001b[0mresult\u001b[0m \u001b[0;34m=\u001b[0m \u001b[0mself\u001b[0m\u001b[0;34m.\u001b[0m\u001b[0mforward\u001b[0m\u001b[0;34m(\u001b[0m\u001b[0;34m*\u001b[0m\u001b[0minput\u001b[0m\u001b[0;34m,\u001b[0m \u001b[0;34m**\u001b[0m\u001b[0mkwargs\u001b[0m\u001b[0;34m)\u001b[0m\u001b[0;34m\u001b[0m\u001b[0;34m\u001b[0m\u001b[0m\n\u001b[0m\u001b[1;32m    728\u001b[0m         for hook in itertools.chain(\n\u001b[1;32m    729\u001b[0m                 \u001b[0m_global_forward_hooks\u001b[0m\u001b[0;34m.\u001b[0m\u001b[0mvalues\u001b[0m\u001b[0;34m(\u001b[0m\u001b[0;34m)\u001b[0m\u001b[0;34m,\u001b[0m\u001b[0;34m\u001b[0m\u001b[0;34m\u001b[0m\u001b[0m\n",
      "\u001b[0;32m/workspace/code/project/esm/esm/multihead_attention.py\u001b[0m in \u001b[0;36mforward\u001b[0;34m(self, query, key, value, key_padding_mask, incremental_state, need_weights, static_kv, attn_mask, before_softmax, need_head_weights)\u001b[0m\n\u001b[1;32m    196\u001b[0m         ):\n\u001b[1;32m    197\u001b[0m             \u001b[0;32massert\u001b[0m \u001b[0mkey\u001b[0m \u001b[0;32mis\u001b[0m \u001b[0;32mnot\u001b[0m \u001b[0;32mNone\u001b[0m \u001b[0;32mand\u001b[0m \u001b[0mvalue\u001b[0m \u001b[0;32mis\u001b[0m \u001b[0;32mnot\u001b[0m \u001b[0;32mNone\u001b[0m\u001b[0;34m\u001b[0m\u001b[0;34m\u001b[0m\u001b[0m\n\u001b[0;32m--> 198\u001b[0;31m             return F.multi_head_attention_forward(\n\u001b[0m\u001b[1;32m    199\u001b[0m                 \u001b[0mquery\u001b[0m\u001b[0;34m,\u001b[0m\u001b[0;34m\u001b[0m\u001b[0;34m\u001b[0m\u001b[0m\n\u001b[1;32m    200\u001b[0m                 \u001b[0mkey\u001b[0m\u001b[0;34m,\u001b[0m\u001b[0;34m\u001b[0m\u001b[0;34m\u001b[0m\u001b[0m\n",
      "\u001b[0;32m/opt/conda/lib/python3.8/site-packages/torch/nn/functional.py\u001b[0m in \u001b[0;36mmulti_head_attention_forward\u001b[0;34m(query, key, value, embed_dim_to_check, num_heads, in_proj_weight, in_proj_bias, bias_k, bias_v, add_zero_attn, dropout_p, out_proj_weight, out_proj_bias, training, key_padding_mask, need_weights, attn_mask, use_separate_proj_weight, q_proj_weight, k_proj_weight, v_proj_weight, static_k, static_v)\u001b[0m\n\u001b[1;32m   4317\u001b[0m     \u001b[0;32massert\u001b[0m \u001b[0mlist\u001b[0m\u001b[0;34m(\u001b[0m\u001b[0mattn_output\u001b[0m\u001b[0;34m.\u001b[0m\u001b[0msize\u001b[0m\u001b[0;34m(\u001b[0m\u001b[0;34m)\u001b[0m\u001b[0;34m)\u001b[0m \u001b[0;34m==\u001b[0m \u001b[0;34m[\u001b[0m\u001b[0mbsz\u001b[0m \u001b[0;34m*\u001b[0m \u001b[0mnum_heads\u001b[0m\u001b[0;34m,\u001b[0m \u001b[0mtgt_len\u001b[0m\u001b[0;34m,\u001b[0m \u001b[0mhead_dim\u001b[0m\u001b[0;34m]\u001b[0m\u001b[0;34m\u001b[0m\u001b[0;34m\u001b[0m\u001b[0m\n\u001b[1;32m   4318\u001b[0m     \u001b[0mattn_output\u001b[0m \u001b[0;34m=\u001b[0m \u001b[0mattn_output\u001b[0m\u001b[0;34m.\u001b[0m\u001b[0mtranspose\u001b[0m\u001b[0;34m(\u001b[0m\u001b[0;36m0\u001b[0m\u001b[0;34m,\u001b[0m \u001b[0;36m1\u001b[0m\u001b[0;34m)\u001b[0m\u001b[0;34m.\u001b[0m\u001b[0mcontiguous\u001b[0m\u001b[0;34m(\u001b[0m\u001b[0;34m)\u001b[0m\u001b[0;34m.\u001b[0m\u001b[0mview\u001b[0m\u001b[0;34m(\u001b[0m\u001b[0mtgt_len\u001b[0m\u001b[0;34m,\u001b[0m \u001b[0mbsz\u001b[0m\u001b[0;34m,\u001b[0m \u001b[0membed_dim\u001b[0m\u001b[0;34m)\u001b[0m\u001b[0;34m\u001b[0m\u001b[0;34m\u001b[0m\u001b[0m\n\u001b[0;32m-> 4319\u001b[0;31m     \u001b[0mattn_output\u001b[0m \u001b[0;34m=\u001b[0m \u001b[0mlinear\u001b[0m\u001b[0;34m(\u001b[0m\u001b[0mattn_output\u001b[0m\u001b[0;34m,\u001b[0m \u001b[0mout_proj_weight\u001b[0m\u001b[0;34m,\u001b[0m \u001b[0mout_proj_bias\u001b[0m\u001b[0;34m)\u001b[0m\u001b[0;34m\u001b[0m\u001b[0;34m\u001b[0m\u001b[0m\n\u001b[0m\u001b[1;32m   4320\u001b[0m \u001b[0;34m\u001b[0m\u001b[0m\n\u001b[1;32m   4321\u001b[0m     \u001b[0;32mif\u001b[0m \u001b[0mneed_weights\u001b[0m\u001b[0;34m:\u001b[0m\u001b[0;34m\u001b[0m\u001b[0;34m\u001b[0m\u001b[0m\n",
      "\u001b[0;32m/opt/conda/lib/python3.8/site-packages/torch/nn/functional.py\u001b[0m in \u001b[0;36mlinear\u001b[0;34m(input, weight, bias)\u001b[0m\n\u001b[1;32m   1690\u001b[0m         \u001b[0mret\u001b[0m \u001b[0;34m=\u001b[0m \u001b[0mtorch\u001b[0m\u001b[0;34m.\u001b[0m\u001b[0maddmm\u001b[0m\u001b[0;34m(\u001b[0m\u001b[0mbias\u001b[0m\u001b[0;34m,\u001b[0m \u001b[0minput\u001b[0m\u001b[0;34m,\u001b[0m \u001b[0mweight\u001b[0m\u001b[0;34m.\u001b[0m\u001b[0mt\u001b[0m\u001b[0;34m(\u001b[0m\u001b[0;34m)\u001b[0m\u001b[0;34m)\u001b[0m\u001b[0;34m\u001b[0m\u001b[0;34m\u001b[0m\u001b[0m\n\u001b[1;32m   1691\u001b[0m     \u001b[0;32melse\u001b[0m\u001b[0;34m:\u001b[0m\u001b[0;34m\u001b[0m\u001b[0;34m\u001b[0m\u001b[0m\n\u001b[0;32m-> 1692\u001b[0;31m         \u001b[0moutput\u001b[0m \u001b[0;34m=\u001b[0m \u001b[0minput\u001b[0m\u001b[0;34m.\u001b[0m\u001b[0mmatmul\u001b[0m\u001b[0;34m(\u001b[0m\u001b[0mweight\u001b[0m\u001b[0;34m.\u001b[0m\u001b[0mt\u001b[0m\u001b[0;34m(\u001b[0m\u001b[0;34m)\u001b[0m\u001b[0;34m)\u001b[0m\u001b[0;34m\u001b[0m\u001b[0;34m\u001b[0m\u001b[0m\n\u001b[0m\u001b[1;32m   1693\u001b[0m         \u001b[0;32mif\u001b[0m \u001b[0mbias\u001b[0m \u001b[0;32mis\u001b[0m \u001b[0;32mnot\u001b[0m \u001b[0;32mNone\u001b[0m\u001b[0;34m:\u001b[0m\u001b[0;34m\u001b[0m\u001b[0;34m\u001b[0m\u001b[0m\n\u001b[1;32m   1694\u001b[0m             \u001b[0moutput\u001b[0m \u001b[0;34m+=\u001b[0m \u001b[0mbias\u001b[0m\u001b[0;34m\u001b[0m\u001b[0;34m\u001b[0m\u001b[0m\n",
      "\u001b[0;31mKeyboardInterrupt\u001b[0m: "
     ]
    }
   ],
   "source": [
    "E_coli_esm34_seed_20_rollover = sampler34.generate(n_samples=100, seed_seq=\"MTSENPLLALREKISALDEK\", batch_size=4, max_len=95, in_order=True, leader_length=20, top_k=0, num_positions=1, num_iters=190, mask=True, rollover_from_start=True)\n",
    "utils.write_sequential_fasta(Path(common_vars.project_dir) / \"data\" / \"E_coli_esm34_seed_20_rollover.fasta\", E_coli_esm34_seed_20_rollover)"
   ]
  },
  {
   "cell_type": "code",
   "execution_count": 10,
   "metadata": {},
   "outputs": [],
   "source": [
    "Syn_F4 = \"MYGKLNQLFHNLNEIVEDLNKNWHRERRTLHDFADELHQLVKHVHHFMQGHKNEGKLQDIVNQLDKLFRDLDNHLQRKDDTVHHRHHQLNKLLAQLDNLVHR\"\n",
    "\n",
    "seed = Syn_F4\n",
    "Syn_F4_parallel_burnin = sampler34.generate(n_samples=100, seed_seq=seed, batch_size=4, max_len=len(seed), in_order=False, num_positions=int(len(seed)/10), num_iters=20, burnin=10, mask=True)\n",
    "utils.write_sequential_fasta(Path(common_vars.project_dir) / \"data\" / \"Syn_F4_parallel_burnin_esm34_2.fasta\", Syn_F4_parallel_burnin)"
   ]
  },
  {
   "cell_type": "code",
   "execution_count": 11,
   "metadata": {},
   "outputs": [
    {
     "name": "stdout",
     "output_type": "stream",
     "text": [
      "0\n",
      "iter 1\n",
      "iter 11\n",
      "Finished batch 1 in 126.514s\n",
      "1\n",
      "iter 1\n",
      "iter 11\n",
      "Finished batch 2 in 111.611s\n",
      "2\n",
      "iter 1\n",
      "iter 11\n",
      "Finished batch 3 in 118.982s\n",
      "3\n",
      "iter 1\n",
      "iter 11\n",
      "Finished batch 4 in 131.272s\n",
      "4\n",
      "iter 1\n",
      "iter 11\n",
      "Finished batch 5 in 116.359s\n",
      "5\n",
      "iter 1\n",
      "iter 11\n",
      "Finished batch 6 in 119.369s\n",
      "6\n",
      "iter 1\n",
      "iter 11\n",
      "Finished batch 7 in 121.350s\n",
      "7\n",
      "iter 1\n",
      "iter 11\n",
      "Finished batch 8 in 116.110s\n",
      "8\n",
      "iter 1\n",
      "iter 11\n",
      "Finished batch 9 in 141.966s\n",
      "9\n",
      "iter 1\n",
      "iter 11\n",
      "Finished batch 10 in 123.962s\n",
      "10\n",
      "iter 1\n",
      "iter 11\n",
      "Finished batch 11 in 127.693s\n",
      "11\n",
      "iter 1\n",
      "iter 11\n",
      "Finished batch 12 in 120.710s\n",
      "12\n",
      "iter 1\n",
      "iter 11\n",
      "Finished batch 13 in 111.536s\n",
      "13\n",
      "iter 1\n",
      "iter 11\n",
      "Finished batch 14 in 111.792s\n",
      "14\n",
      "iter 1\n",
      "iter 11\n",
      "Finished batch 15 in 112.175s\n",
      "15\n",
      "iter 1\n",
      "iter 11\n",
      "Finished batch 16 in 113.840s\n",
      "16\n",
      "iter 1\n",
      "iter 11\n",
      "Finished batch 17 in 107.881s\n",
      "17\n",
      "iter 1\n",
      "iter 11\n",
      "Finished batch 18 in 109.909s\n",
      "18\n",
      "iter 1\n",
      "iter 11\n",
      "Finished batch 19 in 107.274s\n",
      "19\n",
      "iter 1\n",
      "iter 11\n",
      "Finished batch 20 in 106.175s\n",
      "20\n",
      "iter 1\n",
      "iter 11\n",
      "Finished batch 21 in 103.150s\n",
      "21\n",
      "iter 1\n",
      "iter 11\n",
      "Finished batch 22 in 124.998s\n",
      "22\n",
      "iter 1\n",
      "iter 11\n",
      "Finished batch 23 in 121.836s\n",
      "23\n",
      "iter 1\n",
      "iter 11\n",
      "Finished batch 24 in 117.607s\n",
      "24\n",
      "iter 1\n",
      "iter 11\n",
      "Finished batch 25 in 110.749s\n"
     ]
    }
   ],
   "source": [
    "#settings for generating 100 e coli sequences random 10% at a time, with top_k=1 for the whole thing\n",
    "seed = Syn_F4\n",
    "Syn_F4_esm34_parallel_k1 = sampler34.generate(n_samples=100, seed_seq=seed, batch_size=4, max_len=len(seed), in_order=False, num_positions=int(len(seed)/10), num_iters=20, top_k=1, mask=True)\n",
    "utils.write_sequential_fasta(Path(common_vars.project_dir) / \"data\" / \"Syn_F4_parallel_k1_esm34.fasta\", Syn_F4_esm34_parallel_k1)"
   ]
  }
 ],
 "metadata": {
  "kernelspec": {
   "display_name": "Python 3",
   "language": "python",
   "name": "python3"
  },
  "language_info": {
   "codemirror_mode": {
    "name": "ipython",
    "version": 3
   },
   "file_extension": ".py",
   "mimetype": "text/x-python",
   "name": "python",
   "nbconvert_exporter": "python",
   "pygments_lexer": "ipython3",
   "version": "3.8.3"
  }
 },
 "nbformat": 4,
 "nbformat_minor": 4
}
